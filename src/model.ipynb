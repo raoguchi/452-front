{
 "cells": [
  {
   "cell_type": "code",
   "execution_count": 2,
   "metadata": {},
   "outputs": [],
   "source": [
    "import gzip\n",
    "import shutil"
   ]
  },
  {
   "cell_type": "code",
   "execution_count": 3,
   "metadata": {},
   "outputs": [],
   "source": [
    "compressed = '../data/lgb_model.txt.gz'\n",
    "decompressed = '../data/lgb_model.txt'\n",
    "\n",
    "with gzip.open(compressed, 'rb') as f_in:\n",
    "    with open(decompressed, 'wb') as f_out:\n",
    "        shutil.copyfileobj(f_in, f_out)"
   ]
  },
  {
   "cell_type": "code",
   "execution_count": 6,
   "metadata": {},
   "outputs": [
    {
     "name": "stdout",
     "output_type": "stream",
     "text": [
      "['time_occured', 'AREA', 'district_number', 'victim_age', 'victim_sex', 'victim_race', 'premis_code', 'weapon_code', 'mo_codes_hashed', 'year', 'month', 'day']\n",
      "[295660   6131  66195 242948  32242   2782  13295   5301  21009   1325\n",
      "   5675  30207]\n"
     ]
    }
   ],
   "source": [
    "import lightgbm as lgb\n",
    "\n",
    "model = lgb.Booster(model_file='../data/lgb_model.txt')\n",
    "feature_names = model.feature_name()\n",
    "feature_importance = model.feature_importance()\n",
    "print(feature_names)\n",
    "print(feature_importance)\n"
   ]
  }
 ],
 "metadata": {
  "kernelspec": {
   "display_name": "base",
   "language": "python",
   "name": "python3"
  },
  "language_info": {
   "codemirror_mode": {
    "name": "ipython",
    "version": 3
   },
   "file_extension": ".py",
   "mimetype": "text/x-python",
   "name": "python",
   "nbconvert_exporter": "python",
   "pygments_lexer": "ipython3",
   "version": "3.11.9"
  }
 },
 "nbformat": 4,
 "nbformat_minor": 2
}
